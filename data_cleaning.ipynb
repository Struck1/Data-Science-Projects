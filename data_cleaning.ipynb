{
 "metadata": {
  "language_info": {
   "codemirror_mode": {
    "name": "ipython",
    "version": 3
   },
   "file_extension": ".py",
   "mimetype": "text/x-python",
   "name": "python",
   "nbconvert_exporter": "python",
   "pygments_lexer": "ipython3",
   "version": "3.8.3-final"
  },
  "orig_nbformat": 2,
  "kernelspec": {
   "name": "python3",
   "display_name": "Python 3"
  }
 },
 "nbformat": 4,
 "nbformat_minor": 2,
 "cells": [
  {
   "cell_type": "code",
   "execution_count": 5,
   "metadata": {
    "tags": []
   },
   "outputs": [
    {
     "output_type": "stream",
     "name": "stdout",
     "text": "(956, 15)\ndf size : (742, 17)\nint64\njob_state_total :\n  CA                 151\n MA                 103\n NY                  72\n VA                  41\n IL                  40\n MD                  35\n PA                  33\n TX                  28\n WA                  21\n NC                  21\n NJ                  17\n FL                  16\n OH                  14\n TN                  13\n CO                  11\n DC                  11\n IN                  10\n UT                  10\n WI                  10\n AZ                   9\n MO                   9\n AL                   8\n MI                   6\n KY                   6\n DE                   6\n GA                   6\n CT                   5\n IA                   5\n NE                   4\n LA                   4\n OR                   4\n KS                   3\n NM                   3\n ID                   2\n MN                   2\n SC                   1\n RI                   1\nSanta Fe Springs      1\nName: job_state, dtype: int64\nIndex(['Unnamed: 0', 'Job Title', 'Salary Estimate', 'Job Description',\n       'Rating', 'Company Name', 'Location', 'Headquarters', 'Size', 'Founded',\n       'Type of ownership', 'Industry', 'Sector', 'Revenue', 'Competitors',\n       'hourly', 'employer_provided', 'min_salary', 'max_salary',\n       'avarage_salary', 'company_txt', 'job_state', 'same_state',\n       'company_age', 'python_yn', 'rstudio_yn', 'spark_yn', 'aws_yn',\n       'excel_yn', 'nlp_yn', 'sql_yn'],\n      dtype='object')\n"
    }
   ],
   "source": [
    "import pandas as pd\n",
    "import re\n",
    "\n",
    "\n",
    "#company name text only\n",
    "#state field\n",
    "#age of company\n",
    "#parsing job description (python, R, etc)\n",
    "\n",
    "#salary parsing\n",
    "df = pd.read_csv(\"glassdoor_jobs.csv\")\n",
    "\n",
    "salary_unique = df[\"Salary Estimate\"].unique()\n",
    "\n",
    "print(df.shape)\n",
    "\n",
    "df[\"hourly\"] = df[\"Salary Estimate\"].apply(lambda x: 1 if \"per hour\" in x.lower() else 0 )\n",
    "\n",
    "df[\"employer_provided\"] = df[\"Salary Estimate\"].apply(lambda x: 1 if \"employer provided salary\" in x.lower() else 0 )\n",
    "\n",
    "df = df[df[\"Salary Estimate\"] != \"-1\"]\n",
    "\n",
    "print(f\"df size : {df.shape}\")\n",
    "\n",
    "salary = df[\"Salary Estimate\"].apply(lambda x: x.split('(')[0] )\n",
    "\n",
    "minus_Kd =  salary.str.replace(\"$\", \"\").str.replace(\"K\", \"\")\n",
    "\n",
    "min_hr = minus_Kd.apply(lambda x: x.lower().replace(\"per hour\",\"\").replace(\"employer provided salary:\",\"\"))\n",
    "\n",
    "df[\"min_salary\"] = min_hr.apply(lambda x: int(x.split(\"-\")[0]))\n",
    "print(df[\"min_salary\"].dtype )\n",
    "\n",
    "df[\"max_salary\"] = min_hr.apply(lambda x: int(x.split(\"-\")[1]))\n",
    "\n",
    "df[\"avarage_salary\"] = (df[\"max_salary\"] + df[\"min_salary\"]) / 2\n",
    "\n",
    "\n",
    "#company name text only\n",
    "\n",
    "#df[\"Company Name\"] = df[\"Company Name\"].str.extract('([a-zA-Z ]+)', expand=False)\n",
    "\n",
    "df[\"company_txt\"] = df.apply(lambda x: x[\"Company Name\"] if x[\"Rating\"] < 0 else x[\"Company Name\"][:-3], axis=1)\n",
    "\n",
    "\n",
    "#state field\n",
    "\n",
    "df['job_state'] = df['Location'].apply(lambda x: x.split(\",\")[1] if  len(x.split(\",\")) == 2 else x.split(\",\")[0])\n",
    "\n",
    "print(\"job_state_total :\\n\",df.job_state.value_counts())\n",
    "\n",
    "df[\"same_state\"] = df.apply(lambda x: 1 if x.Location == x.Headquarters else 0, axis=1 )\n",
    "\n",
    "#age of company\n",
    "\n",
    "df[\"company_age\"] = df[\"Founded\"].apply(lambda x: x if x < 1 else 2020 - x)\n",
    "\n",
    "\n",
    "#parsing job description (python, R, etc)\n",
    "\n",
    "def parsing_job(df):\n",
    "    skills = [\"python\", \"rstudio\",\"spark\", \"aws\", \"excel\" , \"nlp\", \"sql\" ]\n",
    "    for skill in skills:\n",
    "        df[skill + \"_yn\"] = df[\"Job Description\"].apply(lambda x: 1 if skill in x.lower() else 0)\n",
    "\n",
    "\n",
    "parsing_job(df)\n",
    "\n",
    "print(df.columns)\n",
    "\n",
    "df_out = df.drop([\"Unnamed: 0\"], axis=1)\n",
    "\n",
    "df_out.to_csv(\"data_cleaning.csv\", index=False)\n",
    "\n",
    "clean_data = pd.read_csv(\"data_cleaning.csv\")\n"
   ]
  },
  {
   "cell_type": "code",
   "execution_count": null,
   "metadata": {},
   "outputs": [],
   "source": []
  }
 ]
}